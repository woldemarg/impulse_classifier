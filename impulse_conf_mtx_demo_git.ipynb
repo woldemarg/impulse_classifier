{
 "cells": [
  {
   "cell_type": "code",
   "execution_count": 1,
   "id": "13cdba82",
   "metadata": {},
   "outputs": [],
   "source": [
    "!git clone https://github.com/woldemarg/impulse_classifier"
   ]
  },
  {
   "cell_type": "code",
   "execution_count": 2,
   "id": "52a7b47a",
   "metadata": {},
   "outputs": [],
   "source": [
    "cd impulse_classifier"
   ]
  },
  {
   "cell_type": "code",
   "execution_count": 3,
   "id": "3e69d18d",
   "metadata": {},
   "outputs": [],
   "source": [
    "!pip install --upgrade lightgbm"
   ]
  },
  {
   "cell_type": "code",
   "execution_count": 4,
   "id": "dd19abd1",
   "metadata": {},
   "outputs": [],
   "source": [
    "%matplotlib inline"
   ]
  },
  {
   "cell_type": "code",
   "execution_count": 5,
   "id": "8e957909",
   "metadata": {},
   "outputs": [
    {
     "name": "stdout",
     "output_type": "stream",
     "text": [
      "Positives in original target: 2013 (40.3%)\n",
      "Positives in modified target: 1007 (20.1%)\n"
     ]
    }
   ],
   "source": [
    "import numpy as np\n",
    "from sklearn.datasets import make_classification\n",
    "from sklearn.model_selection import train_test_split\n",
    "\n",
    "# define random state for reproducibility\n",
    "RND = 1234\n",
    "# set sample size\n",
    "SMP = 5000\n",
    "# shate of hidden to emulate PU-dataset\n",
    "n_hidden_share = 0.5\n",
    "# set test share\n",
    "EVL = 0.25\n",
    "\n",
    "X, y = make_classification(\n",
    "    n_samples=SMP,\n",
    "    weights=[0.6],\n",
    "    shuffle=True,\n",
    "    random_state=RND)\n",
    "\n",
    "y_pu = y.copy()\n",
    "\n",
    "pos = np.nonzero(y)[0]\n",
    "np.random.RandomState(RND).shuffle(pos)\n",
    "\n",
    "n_hidden = int(y.sum() * n_hidden_share)\n",
    "y_pu[pos[:n_hidden]] = 0\n",
    "\n",
    "X_trn, X_tst, y_trn_pu, y_tst_pu, y_trn, y_tst = train_test_split(\n",
    "    X, y_pu, y, test_size=EVL, random_state=RND, stratify=y_pu)\n",
    "\n",
    "print(f'Positives in original target: {y.sum()} ({y.mean():.1%})')\n",
    "print(f'Positives in modified target: {y_pu.sum()} ({y_pu.mean():.1%})')"
   ]
  },
  {
   "cell_type": "code",
   "execution_count": 6,
   "id": "ae244d3c",
   "metadata": {},
   "outputs": [
    {
     "name": "stdout",
     "output_type": "stream",
     "text": [
      "Share of positives in unlabelled estimated via training: 21.8%\n"
     ]
    }
   ],
   "source": [
    "from impulse_classifier import ImPULSEClassifier\n",
    "from lightgbm import LGBMClassifier\n",
    "\n",
    "base_estimator = LGBMClassifier(\n",
    "    n_estimators=100,\n",
    "    random_state=RND,\n",
    "    force_col_wise=True,\n",
    "    verbose=-1,\n",
    "    n_jobs=-1)\n",
    "\n",
    "impulse_clf = ImPULSEClassifier(\n",
    "    base_estimator,\n",
    "    min_lr=0.05,\n",
    "    max_lr=0.75,\n",
    "    num_iters=10,\n",
    "    hold_out_ratio=EVL,\n",
    "    random_state=RND)\n",
    "\n",
    "impulse_clf.fit(X_trn, y_trn_pu)\n",
    "\n",
    "print(f'Share of positives in unlabelled estimated via training: {impulse_clf.prior:.1%}')"
   ]
  },
  {
   "cell_type": "code",
   "execution_count": 7,
   "id": "0b65de85",
   "metadata": {},
   "outputs": [],
   "source": [
    "from sklearn.metrics import confusion_matrix\n",
    "\n",
    "\n",
    "def compute_confusion_matrix(\n",
    "        model,\n",
    "        X_train: np.array,\n",
    "        y_train: np.array,\n",
    "        X_test: np.array,\n",
    "        y_test: np.array) -> np.array:\n",
    "\n",
    "    test_size = len(y_test)\n",
    "\n",
    "    pos_index = np.where(y_train)[0]\n",
    "\n",
    "    train_prob = model.predict_proba(X_train[pos_index])[:, 1]\n",
    "\n",
    "    pos_labelled_prob = train_prob.mean()\n",
    "\n",
    "    test_prob = model.predict_proba(X_test)[:, 1]\n",
    "\n",
    "    conf_matrix = confusion_matrix(y_test, (test_prob > 0.5))\n",
    "\n",
    "    true_neg, false_pos, false_neg, true_pos = conf_matrix.ravel()\n",
    "\n",
    "    if model.prior > 0:\n",
    "\n",
    "        false_pos_odds = ((np.abs(y_test - 1)).sum() *\n",
    "                          model.prior * pos_labelled_prob)\n",
    "\n",
    "        true_pos_odds = ((np.abs(y_test - 1)).sum() *\n",
    "                         model.prior * (1 - pos_labelled_prob))\n",
    "\n",
    "        false_pos_adj = max(0, false_pos - (false_pos_odds + true_pos_odds))\n",
    "\n",
    "        true_pos_adj = true_pos + false_pos_odds\n",
    "\n",
    "        false_neg_adj = false_neg + true_pos_odds\n",
    "\n",
    "        conf_matrix = np.array(\n",
    "            [[true_neg, false_pos_adj], [false_neg_adj, true_pos_adj]])\n",
    "\n",
    "        conf_matrix = (\n",
    "            np.round(conf_matrix * test_size /\n",
    "                     conf_matrix.sum()) * conf_matrix.sum() // test_size)\n",
    "\n",
    "        true_neg_odds = test_size - conf_matrix.sum()\n",
    "\n",
    "        true_neg_adj = true_neg + true_neg_odds\n",
    "\n",
    "        conf_matrix[0, 0] = true_neg_adj\n",
    "\n",
    "    return conf_matrix.astype(int)"
   ]
  },
  {
   "cell_type": "code",
   "execution_count": 8,
   "id": "87ab7f41",
   "metadata": {},
   "outputs": [],
   "source": [
    "def compute_metrics(conf_matrix: np.array) -> tuple:\n",
    "    tn, fp, fn, tp = conf_matrix.ravel()\n",
    "    balanced_acc = (tp / (tp + fn) + tn / (tn + fp)) / 2\n",
    "    rec = tp / (tp + fn)\n",
    "    prec = tp / (tp + fp)\n",
    "    return (balanced_acc, rec, prec)"
   ]
  },
  {
   "cell_type": "code",
   "execution_count": 9,
   "id": "f6b4d2c6",
   "metadata": {},
   "outputs": [],
   "source": [
    "from collections import defaultdict\n",
    "import pandas as pd\n",
    "\n",
    "y_prd = impulse_clf.predict(X_tst)\n",
    "\n",
    "cm_true = confusion_matrix(y_tst, y_prd)\n",
    "\n",
    "cm_naiv = confusion_matrix(y_tst_pu, y_prd)\n",
    "\n",
    "cm_adjs = compute_confusion_matrix(\n",
    "    impulse_clf,\n",
    "    X_trn,\n",
    "    y_trn_pu,\n",
    "    X_tst,\n",
    "    y_tst_pu)\n",
    "\n",
    "conf_mtxs = (cm_true, cm_naiv, cm_adjs)\n",
    "\n",
    "mtx = pd.DataFrame(\n",
    "    np.concatenate(conf_mtxs),\n",
    "    index=['true_neg', 'true_pos'] * len(conf_mtxs),\n",
    "    columns=['pred_neg', 'pred_pos'])\n",
    "\n",
    "metrics = defaultdict(list)\n",
    "\n",
    "for i, cm in enumerate(conf_mtxs):\n",
    "    metrics[i].extend(compute_metrics(cm))\n",
    "\n",
    "titles = ['True CM', 'PU-naive CM', 'PU-adjusted CM']\n",
    "\n",
    "ODD = ':\\naccuracy {:.1%}\\nrecall {:.1%}\\nprecision {:.1%}'\n",
    "\n",
    "cm_titles = [('').join([title, ODD]).format(*metrics[i])\n",
    "             for i, title in enumerate(titles)]\n",
    "\n",
    "# https://stackoverflow.com/a/3900001/6025592\n",
    "mtx['method'] = sum([[title] * 2 for title in cm_titles], [])"
   ]
  },
  {
   "cell_type": "code",
   "execution_count": 10,
   "id": "c8b5ec56",
   "metadata": {},
   "outputs": [],
   "source": [
    "import seaborn as sns\n",
    "\n",
    "\n",
    "def draw_heatmap(data, **kwargs):\n",
    "\n",
    "    dfr = data.copy()\n",
    "\n",
    "    dfr.drop(columns=['method'], inplace=True)\n",
    "\n",
    "    dfr_cnts = [str(v) for v in dfr.values.ravel()]\n",
    "    dfr_perc = [f'{v:.1%}' for v in dfr.values.ravel() / np.sum(dfr.values)]\n",
    "\n",
    "    dfr_labs = [f'{v1}\\n{v2}' for v1, v2 in zip(dfr_cnts, dfr_perc)]\n",
    "    dfr_labs = np.asarray(dfr_labs).reshape(dfr.shape)\n",
    "\n",
    "    sns.heatmap(dfr/dfr.sum().sum(),\n",
    "                annot=dfr_labs,\n",
    "                annot_kws={'fontsize': 14},\n",
    "                fmt='',\n",
    "                vmin=0,\n",
    "                vmax=1,\n",
    "                cbar=False,\n",
    "                cmap='Blues',\n",
    "                square=True,\n",
    "                linewidth=0.75,\n",
    "                **kwargs)"
   ]
  },
  {
   "cell_type": "code",
   "execution_count": 11,
   "id": "3a0c9aa5",
   "metadata": {},
   "outputs": [
    {
     "data": {
      "image/png": "[encoded data removed]",
      "text/plain": [
       "<Figure size 777.6x324 with 3 Axes>"
      ]
     },
     "metadata": {},
     "output_type": "display_data"
    }
   ],
   "source": [
    "sns.set_theme()\n",
    "\n",
    "fg = sns.FacetGrid(mtx, col='method', height=4.5, aspect=0.8)\n",
    "\n",
    "fg.map_dataframe(draw_heatmap)\n",
    "\n",
    "fg.set_titles(col_template='{col_name}',  size=14)\n",
    "\n",
    "fg.fig.tight_layout()"
   ]
  }
 ],
 "metadata": {
  "kernelspec": {
   "display_name": "Python 3 (Spyder)",
   "language": "python3",
   "name": "python3"
  },
  "language_info": {
   "codemirror_mode": {
    "name": "ipython",
    "version": 3
   },
   "file_extension": ".py",
   "mimetype": "text/x-python",
   "name": "python",
   "nbconvert_exporter": "python",
   "pygments_lexer": "ipython3",
   "version": "3.9.15"
  }
 },
 "nbformat": 4,
 "nbformat_minor": 5
}
